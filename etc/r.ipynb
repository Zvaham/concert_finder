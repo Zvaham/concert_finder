{
 "cells": [
  {
   "cell_type": "code",
   "execution_count": 3,
   "outputs": [],
   "source": [
    "from spotify_utils import *\n",
    "from ticket_master_utils import *\n",
    "from dotenv import load_dotenv\n",
    "import os\n",
    "from tqdm import tqdm"
   ],
   "metadata": {
    "collapsed": false,
    "ExecuteTime": {
     "end_time": "2023-10-04T16:50:48.992781200Z",
     "start_time": "2023-10-04T16:50:48.871749300Z"
    }
   },
   "id": "957243ec5ca08c50"
  },
  {
   "cell_type": "code",
   "execution_count": 4,
   "outputs": [],
   "source": [
    "load_dotenv()\n",
    "\n",
    "client_id = os.getenv('SPOTIFY_CLIENT_ID')\n",
    "client_secret = os.getenv('SPOTIFY_CLIENT_SECRET')\n",
    "redirect_uri = os.getenv('SPOTIFY_REDIRECT_URI')\n",
    "scope='user-library-read user-top-read'\n",
    "\n",
    "sp_ = authenticate_to_spotify(client_id, client_secret, redirect_uri, scope)\n"
   ],
   "metadata": {
    "collapsed": false,
    "ExecuteTime": {
     "end_time": "2023-10-04T16:50:51.526957200Z",
     "start_time": "2023-10-04T16:50:51.514946200Z"
    }
   },
   "id": "914b58104f98ea16"
  },
  {
   "cell_type": "code",
   "execution_count": 8,
   "outputs": [
    {
     "name": "stderr",
     "output_type": "stream",
     "text": [
      "Fetching Liked Tracks Batches: 100%|██████████| 57/57 [00:23<00:00,  2.45it/s]\n"
     ]
    }
   ],
   "source": [
    "current_top_tracks = get_current_user_top_tracks(sp_, limit=50)\n",
    "current_top_artists = get_current_user_top_artists(sp_, limit=500)\n",
    "ranked = rank_artists_by_song_count(get_all_liked_tracks(sp_))"
   ],
   "metadata": {
    "collapsed": false,
    "ExecuteTime": {
     "end_time": "2023-10-04T16:53:09.101845400Z",
     "start_time": "2023-10-04T16:52:44.686343300Z"
    }
   },
   "id": "4144217dd6bef4a6"
  },
  {
   "cell_type": "code",
   "execution_count": 13,
   "outputs": [],
   "source": [
    "all_liked_artists = get_followed_artists(sp_, limit=500)"
   ],
   "metadata": {
    "collapsed": false,
    "ExecuteTime": {
     "end_time": "2023-10-03T22:01:48.127136700Z",
     "start_time": "2023-10-03T22:01:47.093885600Z"
    }
   },
   "id": "27ef474d8ea03849"
  },
  {
   "cell_type": "code",
   "execution_count": 5,
   "outputs": [
    {
     "name": "stdout",
     "output_type": "stream",
     "text": [
      "[('The Arrogance of Agony', 'Mental Cruelty'), ('Forgotten Kings', 'Mental Cruelty'), ('Abadon', 'Mental Cruelty'), ('Symphony of a Dying Star', 'Mental Cruelty'), ('Ultima Hypocrita', 'Mental Cruelty'), ('King Ov Fire', 'Mental Cruelty'), ('Pest', 'Mental Cruelty'), ('Such Small Hands', 'La Dispute'), ('Midtvinter', 'Mental Cruelty'), (\"Welcome Back, O' Sleeping Dreamer\", 'Lorna Shore'), ('Nordlys', 'Mental Cruelty'), ('Left Outside Alone', 'Malevolence'), ('Mortal Shells', 'Mental Cruelty'), ('Ghost Of Me', 'Make Them Suffer'), ('Custer', 'Slipknot'), ('King', 'Immortal Disfigurement'), ('I', 'DEATHPHONK'), ('The Devil in I', 'Slipknot'), ('Praise Poison', 'The Devil Wears Prada'), ('Obsessis a Daemonio', 'Mental Cruelty'), ('Zwielicht', 'Mental Cruelty'), ('Constance', 'The Devil Wears Prada'), ('Death Worship', 'Mental Cruelty'), ('Of Fearful Men', 'After The Burial'), ('A Tale of Salt and Light', 'Mental Cruelty'), ('Axe of Kindness', 'To The Grave'), (\"Pain Remains II: After All I've Done, I'll Disappear\", 'Lorna Shore'), ('Deadskin Skimask (feat. Jake Kennedy)', 'To The Grave'), ('Wrath', 'Lorna Shore'), ('Eternal Eclipse', 'Mental Cruelty'), ('Dead Throne', 'The Devil Wears Prada'), ('Creep', 'Alpha Wolf'), ('A Hill to Die Upon', 'Mental Cruelty'), ('Pain Remains I: Dancing Like Flames', 'Lorna Shore'), ('Dragged Through The Inferno', 'Immortal Disfigurement'), ('A Wolf Amongst Ravens', 'After The Burial'), ('VIKING', 'Slaughter to Prevail'), ('Drone Corpse Aviator', 'Archspire'), ('A Quiet Place to Die', 'Alpha Wolf'), ('Exit Bag', 'ten56.'), ('Gloom', 'The Devil Wears Prada'), ('Mein Herz brennt', 'Rammstein'), ('Golden Mouth of Ruin', 'Archspire'), ('Bite Your Tongue', 'Attila'), ('Martyrs', 'The Devil Wears Prada'), ('Reasons', 'Excision'), ('Dethrone', 'Bad Omens'), ('Everything is Fine!', 'Periphery'), ('Under A Serpent Sun', 'Fit For An Autopsy'), ('Apotheosis', 'Lorna Shore')]\n"
     ]
    }
   ],
   "source": [
    "print(current_top_tracks)"
   ],
   "metadata": {
    "collapsed": false,
    "ExecuteTime": {
     "end_time": "2023-10-03T21:51:43.366825600Z",
     "start_time": "2023-10-03T21:51:43.307809900Z"
    }
   },
   "id": "f811b3e2c628324d"
  },
  {
   "cell_type": "code",
   "execution_count": 9,
   "outputs": [
    {
     "name": "stdout",
     "output_type": "stream",
     "text": [
      "['The Devil Wears Prada', 'Architects', 'Lorna Shore', 'Berried Alive', 'Sleep Token', 'VOLA', 'Veil Of Maya', 'Angelmaker', 'TesseracT', 'Bring Me The Horizon', 'Fit For An Autopsy', 'Gojira', 'Igorrr', 'Archspire', 'Periphery', 'We Butter The Bread With Butter', 'Mental Cruelty', 'Darko US', 'Shadow of Intent', 'Polyphia', 'Haunted Shores', 'ten56.', 'Rivers of Nihil', 'Currents', 'King Mothership', 'Enterprise Earth', 'Unprocessed', 'Whitechapel', 'Dance Gavin Dance', 'The Algorithm', 'Ólafur Arnalds', 'Born Of Osiris', 'To The Grave', 'La Dispute', 'Slaughter to Prevail', 'Slipknot', 'Their Dogs Were Astronauts', 'Linkin Park', 'SCUMFUCK', 'Within Destruction', 'MØL', 'Lamb of God', 'Chelsea Grin', 'The Omnific', 'Secret Band', 'Zeal & Ardor', 'Make Them Suffer', 'The Browning', 'Distant', 'Rammstein']\n"
     ]
    }
   ],
   "source": [
    "print(current_top_artists)"
   ],
   "metadata": {
    "collapsed": false,
    "ExecuteTime": {
     "end_time": "2023-10-04T16:53:20.498655900Z",
     "start_time": "2023-10-04T16:53:20.492650300Z"
    }
   },
   "id": "1e3704dcc71800f7"
  },
  {
   "cell_type": "code",
   "execution_count": 17,
   "outputs": [
    {
     "name": "stdout",
     "output_type": "stream",
     "text": [
      "[('The Devil Wears Prada', 125), ('Bring Me The Horizon', 104), ('Motionless In White', 100), ('A Day To Remember', 92), ('Dance Gavin Dance', 91), ('TesseracT', 80), ('Gojira', 78), ('Linkin Park', 73), ('We Butter The Bread With Butter', 70), ('Igorrr', 63), ('Angelmaker', 61), ('Architects', 56), ('Dayseeker', 56), ('Asking Alexandria', 54), ('Twenty One Pilots', 54), ('Lorna Shore', 53), ('Periphery', 52), ('Ghostemane', 51), ('Polyphia', 47), ('Rammstein', 40), ('bbno$', 40), ('Veil Of Maya', 37), ('Born Of Osiris', 36), ('Their Dogs Were Astronauts', 35), ('Joji', 33), ('Shadow of Intent', 32), ('VOLA', 30), ('XXXTENTACION', 29), ('The Omnific', 28), ('Brojob', 27), ('Slipknot', 27), ('Infant Annihilator', 27), ('J. Cole', 25), ('Lil Peep', 24), ('Ólafur Arnalds', 23), ('Eleventh Vibration', 22), ('Endless Dive', 22), ('Saf', 19), ('Idealism', 19), ('Plini', 19), ('Kendrick Lamar', 19), ('Post Malone', 19), ('Mental Cruelty', 17), ('Rich Brian', 17), ('Sleep Token', 16), ('Mikel', 16), ('David Maxim Micic', 16), ('Cocainejesus', 16), ('Fit For An Autopsy', 15), ('Strawberry Girls', 15), ('Woodkid', 15), ('Zeal & Ardor', 14), ('King Mothership', 14), ('Within Destruction', 14), ('Iiah', 14), ('ten56.', 13), ('Chelsea Grin', 13), ('La Dispute', 12), ('Crystal Lake', 12), ('Animals As Leaders', 12), ('Rivers of Nihil', 12), ('The Ogre Packet Slammers', 12), ('Home', 12), ('Darko US', 11), ('Haunted Shores', 11), ('The Algorithm', 11), ('$uicideboy$', 11), ('Secret Band', 11), ('Josh A', 11), ('Thy Art Is Murder', 10), ('Archspire', 10), ('Soen', 10), ('quickly, quickly', 10), ('Corpo-Mente', 10), ('Black Peaks', 9), ('The Contortionist', 9), ('Slaughter to Prevail', 8), ('Berried Alive', 8), ('To The Grave', 7), ('After The Burial', 7), ('Make Them Suffer', 7), ('Whitechapel', 7), ('Currents', 7), ('Devin Townsend Project', 7), ('生 Conform 死', 7), ('Enterprise Earth', 6), ('Lamb of God', 6), ('Leprous', 6), ('Vitalism', 6), ('Carcosa', 5), ('Alpha Wolf', 5), ('The Browning', 5), ('Falling In Reverse', 5), ('Rings of Saturn', 5), ('Unprocessed', 5), ('Nuclear Power Trio', 5), ('Elliot Ziegler', 5), ('We Lost The Sea', 5), ('Immortal Disfigurement', 4), ('DEATHPHONK', 4), ('Mumble', 4), ('Distant', 4), ('Viscera', 4), ('Chon', 4), ('Glasgow Coma Scale', 4), ('Electric Callboy', 4), ('Fit For A King', 4), ('Yung Gravy', 4), ('Childish Gambino', 4), ('Venjent', 3), ('Of Mice & Men', 3), ('Mire Lore', 3), ('MØL', 3), ('Brand of Sacrifice', 3), ('The Trouble Notes', 3), ('Emarosa', 3), ('Tyler, The Creator', 3), ('Y2K', 3), ('IDLES', 3), ('Billie Eilish', 3), ('eevee', 3), ('Hive', 2), ('Signs of the Swarm', 2), ('Imminence', 2), ('Tallah', 2), ('Ed Harrison', 2), ('SCUMFUCK', 2), ('Marilyn Manson', 2), ('Attila', 2), ('As Blood Runs Black', 2), ('Thirty Seconds To Mars', 2), ('Alesana', 2), ('Kardashev', 2), ('Bind the Sacrifice', 2), ('HEALTH', 2), ('Volumes', 2), ('Aversions Crown', 2), ('Ihsahn', 2), ('Cattle Decapitation', 2), ('Shokran', 2), ('Intervals', 2), ('Andromida', 2), ('Royal Coda', 2), ('BABY GRAVY', 2), ('BROCKHAMPTON', 2), ('Ice Nine Kills', 2), ('Tomppabeats', 2), ('Belzebubs', 2), ('Pouya', 2), ('Oceans Ate Alaska', 1), ('a-ha', 1), ('Lorde', 1), ('Tears For Fears', 1), ('SIX ATL', 1), ('CORPSE', 1), ('This Is Me Breathing', 1), ('thrown', 1), ('Silent Planet', 1), ('Wage War', 1), ('Bad Omens', 1), ('Orbit Culture', 1), ('Excision', 1), ('Beartooth', 1), ('I Built the Sky', 1), ('Fractalize', 1), ('Korn', 1), ('Serj Tankian', 1), ('System Of A Down', 1), ('Malevolence', 1), ('Bullet For My Valentine', 1), ('DEVILOOF', 1), ('NIK NXK', 1), ('MAL', 1), ('Ov Sulfur', 1), ('Worm Shepherd', 1), ('PROJECT: VENGEANCE', 1), ('Traitors', 1), ('Termina', 1), ('Abhi The Nomad', 1), ('James Earle Trio', 1), ('Eyes Set To Kill', 1), ('Black Veil Brides', 1), ('Will Ramos', 1), ('Johari', 1), ('Port Noir', 1), ('VCTMS', 1), ('Suicide Silence', 1), ('Cloudkicker', 1), ('DADS', 1), ('Carnifex', 1), ('TrippyThaKid', 1), ('Syncatto', 1), ('Nova Collective', 1), ('Vildhjarta', 1), ('Chimp Spanner', 1), ('Within The Ruins', 1), ('Wheel', 1), ('Monuments', 1), ('August Burns Red', 1), ('Thornhill', 1), ('The Acacia Strain', 1), ('Defamed', 1), ('ERRA', 1), ('Obscure of Acacia', 1), ('Meshuggah', 1), ('6ix9ine', 1), ('Issues', 1), ('Makari', 1), ('I Am Abomination', 1), ('Coletta', 1), ('Jerk', 1), ('Strapping Young Lad', 1), ('Cauldron', 1), ('Hail The Sun', 1), ('Hobo Johnson', 1), ('Yung Bae', 1), ('Sugi.wa', 1), ('Ne Obliviscaris', 1), ('Diablo Swing Orchestra', 1), ('NOROZ', 1), (\"Caligula's Horse\", 1), ('Hollow Prophet', 1), ('Billy Marchiafava', 1), ('The Amity Affliction', 1), ('Knocked Loose', 1), ('Insomnium', 1), ('Numenorean', 1), ('The Plot In You', 1), ('Killswitch Engage', 1), ('Betraying The Martyrs', 1), ('KYLE', 1), ('Hunt the Dinosaur', 1), ('Panic! At The Disco', 1), ('Tame Impala', 1), ('SwuM', 1), ('Heart Of A Coward', 1), ('Siamese', 1), ('The Word Alive', 1), ('potsu', 1), ('Nohidea', 1), ('Dying Fetus', 1), ('Between The Buried And Me', 1), ('McCoy Tyner', 1), ('Oh, Sleeper', 1), ('Aaron Smith', 1), ('Lorne Balfe', 1), ('Juice WRLD', 1), ('Heathen Foray', 1), ('Rain City Drive', 1), ('Fat Nick', 1), ('SIAMES', 1), ('Marshmello', 1), ('Joey Pecoraro', 1), ('Jason Richardson', 1), ('Audrey Fall', 1), ('Instupendo', 1), ('Sithu Aye', 1), ('Mono:Massive', 1), ('Fujitsu', 1), ('Caleb Belkin', 1), (\"L'Indécis\", 1), ('Jinsang', 1), ('killedmyself', 1), ('Elijah Who', 1), ('Otxhello', 1), ('Ricko James', 1), ('Wax Tailor', 1), ('RŮDE', 1)]\n"
     ]
    }
   ],
   "source": [
    "print(ranked)"
   ],
   "metadata": {
    "collapsed": false,
    "ExecuteTime": {
     "end_time": "2023-10-03T22:04:25.140717100Z",
     "start_time": "2023-10-03T22:04:25.123701700Z"
    }
   },
   "id": "464a85121ca00d44"
  },
  {
   "cell_type": "code",
   "execution_count": 16,
   "outputs": [
    {
     "name": "stdout",
     "output_type": "stream",
     "text": [
      "['Belzebubs', 'Slipknot', 'Gojira', 'The Devil Wears Prada', 'David Maxim Micic', 'Intervals', 'Unprocessed', 'Brojob', 'Angelmaker', 'Shokran', 'Bring Me The Horizon', 'VOLA', 'No Oath', 'Asking Alexandria', 'We Butter The Bread With Butter', 'TesseracT', 'McCoy Tyner', 'Rich Brian', 'Veil Of Maya', 'Lil Peep', 'Igorrr', 'Corpo-Mente', 'Soen', 'Plini', 'Joji', 'King Mothership', 'Twenty One Pilots', 'Architects', 'Ghostemane', 'Pink Guy', 'bbno$', 'Woodkid', 'Strapping Young Lad', 'Born Of Osiris', 'A Day To Remember', 'Their Dogs Were Astronauts', 'Polyphia', 'Devin Townsend Project', 'Dayseeker', 'Johann Sebastian Bach', 'Saf', 'Eleventh Vibration', 'The Omnific', 'Aversions Crown', 'Oliver Tree', 'Linkin Park', 'Idealism', 'Haunted Shores', 'Periphery', 'Infant Annihilator', 'Dance Gavin Dance', 'J. Cole', 'Hollow Prophet', 'Endless Dive', 'Lorna Shore', 'Rammstein', 'Mumble', 'Black Peaks', 'Shadow of Intent', 'Darko US', 'Archspire', 'PROJECT: VENGEANCE', 'Vitalism', 'Immortal Disfigurement', 'Venjent', 'Belzebubs', 'Slipknot', 'Gojira', 'The Devil Wears Prada', 'David Maxim Micic', 'Intervals', 'Unprocessed', 'Brojob', 'Angelmaker', 'Shokran', 'Bring Me The Horizon', 'VOLA', 'No Oath', 'Asking Alexandria', 'We Butter The Bread With Butter', 'TesseracT', 'McCoy Tyner', 'Rich Brian', 'Veil Of Maya', 'Lil Peep', 'Igorrr', 'Corpo-Mente', 'Soen', 'Plini', 'Joji', 'King Mothership', 'Twenty One Pilots', 'Architects', 'Ghostemane', 'Pink Guy', 'bbno$', 'Woodkid', 'Strapping Young Lad', 'Born Of Osiris', 'A Day To Remember', 'Their Dogs Were Astronauts', 'Polyphia', 'Devin Townsend Project', 'Dayseeker', 'Johann Sebastian Bach', 'Saf', 'Eleventh Vibration', 'The Omnific', 'Aversions Crown', 'Oliver Tree', 'Linkin Park', 'Idealism', 'Haunted Shores', 'Periphery', 'Infant Annihilator', 'Dance Gavin Dance', 'J. Cole', 'Hollow Prophet', 'Endless Dive', 'Lorna Shore', 'Rammstein', 'Mumble', 'Black Peaks', 'Shadow of Intent', 'Darko US', 'Archspire', 'PROJECT: VENGEANCE', 'Vitalism', 'Immortal Disfigurement', 'Venjent', 'Belzebubs', 'Slipknot', 'Gojira', 'The Devil Wears Prada', 'David Maxim Micic', 'Intervals', 'Unprocessed', 'Brojob', 'Angelmaker', 'Shokran', 'Bring Me The Horizon', 'VOLA', 'No Oath', 'Asking Alexandria', 'We Butter The Bread With Butter', 'TesseracT', 'McCoy Tyner', 'Rich Brian', 'Veil Of Maya', 'Lil Peep', 'Igorrr', 'Corpo-Mente', 'Soen', 'Plini', 'Joji', 'King Mothership', 'Twenty One Pilots', 'Architects', 'Ghostemane', 'Pink Guy', 'bbno$', 'Woodkid', 'Strapping Young Lad', 'Born Of Osiris', 'A Day To Remember', 'Their Dogs Were Astronauts', 'Polyphia', 'Devin Townsend Project', 'Dayseeker', 'Johann Sebastian Bach', 'Saf', 'Eleventh Vibration', 'The Omnific', 'Aversions Crown', 'Oliver Tree', 'Linkin Park', 'Idealism', 'Haunted Shores', 'Periphery', 'Infant Annihilator', 'Dance Gavin Dance', 'J. Cole', 'Hollow Prophet', 'Endless Dive', 'Lorna Shore', 'Rammstein', 'Mumble', 'Black Peaks', 'Shadow of Intent', 'Darko US', 'Archspire', 'PROJECT: VENGEANCE', 'Vitalism', 'Immortal Disfigurement', 'Venjent', 'Belzebubs', 'Slipknot', 'Gojira', 'The Devil Wears Prada', 'David Maxim Micic', 'Intervals', 'Unprocessed', 'Brojob', 'Angelmaker', 'Shokran', 'Bring Me The Horizon', 'VOLA', 'No Oath', 'Asking Alexandria', 'We Butter The Bread With Butter', 'TesseracT', 'McCoy Tyner', 'Rich Brian', 'Veil Of Maya', 'Lil Peep', 'Igorrr', 'Corpo-Mente', 'Soen', 'Plini', 'Joji', 'King Mothership', 'Twenty One Pilots', 'Architects', 'Ghostemane', 'Pink Guy', 'bbno$', 'Woodkid', 'Strapping Young Lad', 'Born Of Osiris', 'A Day To Remember', 'Their Dogs Were Astronauts', 'Polyphia', 'Devin Townsend Project', 'Dayseeker', 'Johann Sebastian Bach', 'Saf', 'Eleventh Vibration', 'The Omnific', 'Aversions Crown', 'Oliver Tree', 'Linkin Park', 'Idealism', 'Haunted Shores', 'Periphery', 'Infant Annihilator', 'Dance Gavin Dance', 'J. Cole', 'Hollow Prophet', 'Endless Dive', 'Lorna Shore', 'Rammstein', 'Mumble', 'Black Peaks', 'Shadow of Intent', 'Darko US', 'Archspire', 'PROJECT: VENGEANCE', 'Vitalism', 'Immortal Disfigurement', 'Venjent', 'Belzebubs', 'Slipknot', 'Gojira', 'The Devil Wears Prada', 'David Maxim Micic', 'Intervals', 'Unprocessed', 'Brojob', 'Angelmaker', 'Shokran', 'Bring Me The Horizon', 'VOLA', 'No Oath', 'Asking Alexandria', 'We Butter The Bread With Butter', 'TesseracT', 'McCoy Tyner', 'Rich Brian', 'Veil Of Maya', 'Lil Peep', 'Igorrr', 'Corpo-Mente', 'Soen', 'Plini', 'Joji', 'King Mothership', 'Twenty One Pilots', 'Architects', 'Ghostemane', 'Pink Guy', 'bbno$', 'Woodkid', 'Strapping Young Lad', 'Born Of Osiris', 'A Day To Remember', 'Their Dogs Were Astronauts', 'Polyphia', 'Devin Townsend Project', 'Dayseeker', 'Johann Sebastian Bach', 'Saf', 'Eleventh Vibration', 'The Omnific', 'Aversions Crown', 'Oliver Tree', 'Linkin Park', 'Idealism', 'Haunted Shores', 'Periphery', 'Infant Annihilator', 'Dance Gavin Dance', 'J. Cole', 'Hollow Prophet', 'Endless Dive', 'Lorna Shore', 'Rammstein', 'Mumble', 'Black Peaks', 'Shadow of Intent', 'Darko US', 'Archspire', 'PROJECT: VENGEANCE', 'Vitalism', 'Immortal Disfigurement', 'Venjent']\n"
     ]
    }
   ],
   "source": [
    "print(all_liked_artists)"
   ],
   "metadata": {
    "collapsed": false,
    "ExecuteTime": {
     "end_time": "2023-10-03T22:02:13.110113900Z",
     "start_time": "2023-10-03T22:02:13.096101200Z"
    }
   },
   "id": "d04a838310e16605"
  },
  {
   "cell_type": "code",
   "execution_count": 11,
   "outputs": [],
   "source": [
    "def find_missing_items(list1, list2, list3):\n",
    "    set1, set2, set3 = set(list1), set(list2), set(list3)\n",
    "    \n",
    "    missing_in_list1 = set2.union(set3) - set1\n",
    "    missing_in_list2 = set1.union(set3) - set2\n",
    "    missing_in_list3 = set1.union(set2) - set3\n",
    "    \n",
    "    return list(missing_in_list1), list(missing_in_list2), list(missing_in_list3)\n",
    "\n",
    "\n",
    "def visualize_missing_items(list1, list2, list3):\n",
    "    missing_list1, missing_list2, missing_list3 = find_missing_items(list1, list2, list3)\n",
    "\n",
    "    print(\"Missing items in list1:\")\n",
    "    for item in missing_list1:\n",
    "        print(f\"- {item} (Missing from List1)\")\n",
    "\n",
    "    print(\"\\nMissing items in list2:\")\n",
    "    for item in missing_list2:\n",
    "        print(f\"- {item} (Missing from List2)\")\n",
    "\n",
    "    print(\"\\nMissing items in list3:\")\n",
    "    for item in missing_list3:\n",
    "        print(f\"- {item} (Missing from List3)\")"
   ],
   "metadata": {
    "collapsed": false,
    "ExecuteTime": {
     "end_time": "2023-10-03T21:56:23.155523100Z",
     "start_time": "2023-10-03T21:56:23.142506Z"
    }
   },
   "id": "928bff77973eda91"
  },
  {
   "cell_type": "code",
   "execution_count": null,
   "outputs": [],
   "source": [
    "visualize_missing_items(current_top_tracks, current_top_artists, all_liked_artists)"
   ],
   "metadata": {
    "collapsed": false
   },
   "id": "a8c51dc25cef03d8"
  },
  {
   "cell_type": "code",
   "execution_count": 9,
   "outputs": [],
   "source": [
    "missing_list1, missing_list2, missing_list3 = find_missing_items(current_top_tracks, current_top_artists, all_liked_artists)"
   ],
   "metadata": {
    "collapsed": false,
    "ExecuteTime": {
     "end_time": "2023-10-03T21:54:14.767838300Z",
     "start_time": "2023-10-03T21:54:14.757829Z"
    }
   },
   "id": "9e08750fd070ee4f"
  },
  {
   "cell_type": "code",
   "execution_count": 10,
   "outputs": [
    {
     "name": "stdout",
     "output_type": "stream",
     "text": [
      "['Chelsea Grin', 'Idealism', 'Make Them Suffer', 'ten56.', 'Plini', 'SCUMFUCK', 'Devin Townsend Project', 'Shadow of Intent', 'Secret Band', 'Twenty One Pilots', 'Periphery', 'Lamb of God', 'Lorna Shore', 'Fit For An Autopsy', 'Joji', 'Corpo-Mente', 'Soen', 'The Algorithm', 'Rivers of Nihil', 'Enterprise Earth', 'Born Of Osiris', 'Berried Alive', 'Their Dogs Were Astronauts', 'Bring Me The Horizon', 'Distant', 'Whitechapel', 'Architects', 'No Oath', 'Within Destruction', 'bbno$', 'Dayseeker', 'The Devil Wears Prada', 'Angelmaker', 'David Maxim Micic', 'Darko US', 'Slaughter to Prevail', 'Veil Of Maya', 'Mental Cruelty', 'Ghostemane', 'Sleep Token', 'MØL', 'Lil Peep', 'Woodkid', 'Unprocessed', 'Johann Sebastian Bach', 'Dance Gavin Dance', 'Aversions Crown', 'Polyphia', 'Archspire', 'We Butter The Bread With Butter', 'TesseracT', 'Shokran', 'A Day To Remember', 'VOLA', 'Ólafur Arnalds', 'Zeal & Ardor', 'Slipknot', 'King Mothership', 'To The Grave', 'La Dispute', 'The Browning', 'Strapping Young Lad', 'Belzebubs', 'Eleventh Vibration', 'Intervals', 'Pink Guy', 'Haunted Shores', 'Igorrr', 'Asking Alexandria', 'Infant Annihilator', 'McCoy Tyner', 'Oliver Tree', 'Linkin Park', 'Gojira', 'Brojob', 'Rammstein', 'Saf', 'Rich Brian', 'The Omnific', 'Currents']\n",
      "____________________________________________________________________________________________________\n",
      "\n",
      "\n",
      "['Idealism', ('Wrath', 'Lorna Shore'), 'Plini', ('King', 'Immortal Disfigurement'), 'Devin Townsend Project', 'Twenty One Pilots', ('Abadon', 'Mental Cruelty'), ('Creep', 'Alpha Wolf'), ('Of Fearful Men', 'After The Burial'), ('Dead Throne', 'The Devil Wears Prada'), ('King Ov Fire', 'Mental Cruelty'), ('Ghost Of Me', 'Make Them Suffer'), 'Joji', ('The Devil in I', 'Slipknot'), ('Under A Serpent Sun', 'Fit For An Autopsy'), 'Corpo-Mente', 'Soen', ('Nordlys', 'Mental Cruelty'), ('I', 'DEATHPHONK'), ('Death Worship', 'Mental Cruelty'), ('Obsessis a Daemonio', 'Mental Cruelty'), (\"Welcome Back, O' Sleeping Dreamer\", 'Lorna Shore'), ('A Quiet Place to Die', 'Alpha Wolf'), 'No Oath', 'bbno$', 'Dayseeker', ('Left Outside Alone', 'Malevolence'), 'David Maxim Micic', ('Golden Mouth of Ruin', 'Archspire'), ('Ultima Hypocrita', 'Mental Cruelty'), ('Constance', 'The Devil Wears Prada'), ('Dragged Through The Inferno', 'Immortal Disfigurement'), ('Custer', 'Slipknot'), 'Ghostemane', ('Reasons', 'Excision'), ('Gloom', 'The Devil Wears Prada'), ('Martyrs', 'The Devil Wears Prada'), ('Bite Your Tongue', 'Attila'), 'Lil Peep', ('Drone Corpse Aviator', 'Archspire'), 'Woodkid', 'Johann Sebastian Bach', ('A Tale of Salt and Light', 'Mental Cruelty'), ('Pest', 'Mental Cruelty'), 'Aversions Crown', ('Deadskin Skimask (feat. Jake Kennedy)', 'To The Grave'), ('The Arrogance of Agony', 'Mental Cruelty'), 'Shokran', 'A Day To Remember', ('Dethrone', 'Bad Omens'), (\"Pain Remains II: After All I've Done, I'll Disappear\", 'Lorna Shore'), ('A Hill to Die Upon', 'Mental Cruelty'), ('Forgotten Kings', 'Mental Cruelty'), ('Such Small Hands', 'La Dispute'), ('Mortal Shells', 'Mental Cruelty'), 'Strapping Young Lad', ('VIKING', 'Slaughter to Prevail'), ('Eternal Eclipse', 'Mental Cruelty'), 'Belzebubs', ('Symphony of a Dying Star', 'Mental Cruelty'), 'Eleventh Vibration', 'Intervals', 'Pink Guy', ('Pain Remains I: Dancing Like Flames', 'Lorna Shore'), ('Everything is Fine!', 'Periphery'), ('Zwielicht', 'Mental Cruelty'), ('Midtvinter', 'Mental Cruelty'), ('Axe of Kindness', 'To The Grave'), 'Asking Alexandria', 'Infant Annihilator', 'McCoy Tyner', 'Oliver Tree', ('Apotheosis', 'Lorna Shore'), 'Brojob', 'Saf', ('Exit Bag', 'ten56.'), ('A Wolf Amongst Ravens', 'After The Burial'), ('Praise Poison', 'The Devil Wears Prada'), 'Rich Brian', ('Mein Herz brennt', 'Rammstein')]\n",
      "____________________________________________________________________________________________________\n",
      "\n",
      "\n",
      "['Chelsea Grin', 'Make Them Suffer', 'ten56.', ('Wrath', 'Lorna Shore'), ('King', 'Immortal Disfigurement'), 'SCUMFUCK', 'Shadow of Intent', 'Secret Band', ('Abadon', 'Mental Cruelty'), ('Creep', 'Alpha Wolf'), 'Lamb of God', 'Lorna Shore', 'Fit For An Autopsy', ('Of Fearful Men', 'After The Burial'), ('Dead Throne', 'The Devil Wears Prada'), ('King Ov Fire', 'Mental Cruelty'), ('Ghost Of Me', 'Make Them Suffer'), ('The Devil in I', 'Slipknot'), ('Under A Serpent Sun', 'Fit For An Autopsy'), 'The Algorithm', 'Rivers of Nihil', ('Nordlys', 'Mental Cruelty'), 'Enterprise Earth', ('I', 'DEATHPHONK'), ('Death Worship', 'Mental Cruelty'), ('Obsessis a Daemonio', 'Mental Cruelty'), 'Berried Alive', (\"Welcome Back, O' Sleeping Dreamer\", 'Lorna Shore'), 'Distant', ('A Quiet Place to Die', 'Alpha Wolf'), 'Whitechapel', 'Within Destruction', ('Left Outside Alone', 'Malevolence'), ('Golden Mouth of Ruin', 'Archspire'), 'Darko US', 'Slaughter to Prevail', ('Ultima Hypocrita', 'Mental Cruelty'), ('Constance', 'The Devil Wears Prada'), ('Dragged Through The Inferno', 'Immortal Disfigurement'), ('Custer', 'Slipknot'), 'Mental Cruelty', ('Reasons', 'Excision'), ('Gloom', 'The Devil Wears Prada'), 'Sleep Token', ('Martyrs', 'The Devil Wears Prada'), ('Bite Your Tongue', 'Attila'), 'MØL', ('Drone Corpse Aviator', 'Archspire'), ('A Tale of Salt and Light', 'Mental Cruelty'), ('Pest', 'Mental Cruelty'), 'Dance Gavin Dance', ('Deadskin Skimask (feat. Jake Kennedy)', 'To The Grave'), ('The Arrogance of Agony', 'Mental Cruelty'), 'Archspire', ('Dethrone', 'Bad Omens'), (\"Pain Remains II: After All I've Done, I'll Disappear\", 'Lorna Shore'), ('A Hill to Die Upon', 'Mental Cruelty'), ('Forgotten Kings', 'Mental Cruelty'), 'Ólafur Arnalds', ('Such Small Hands', 'La Dispute'), 'Zeal & Ardor', 'To The Grave', 'La Dispute', 'The Browning', ('Mortal Shells', 'Mental Cruelty'), ('VIKING', 'Slaughter to Prevail'), ('Eternal Eclipse', 'Mental Cruelty'), ('Symphony of a Dying Star', 'Mental Cruelty'), ('Pain Remains I: Dancing Like Flames', 'Lorna Shore'), ('Everything is Fine!', 'Periphery'), ('Zwielicht', 'Mental Cruelty'), ('Midtvinter', 'Mental Cruelty'), ('Axe of Kindness', 'To The Grave'), ('Apotheosis', 'Lorna Shore'), 'Rammstein', ('Exit Bag', 'ten56.'), ('A Wolf Amongst Ravens', 'After The Burial'), ('Praise Poison', 'The Devil Wears Prada'), 'Currents', ('Mein Herz brennt', 'Rammstein')]\n"
     ]
    }
   ],
   "source": [
    "print(missing_list1)\n",
    "print('_'*100)\n",
    "print(\"\\n\")\n",
    "print(missing_list2)\n",
    "print('_'*100)\n",
    "print(\"\\n\")\n",
    "print(missing_list3)"
   ],
   "metadata": {
    "collapsed": false,
    "ExecuteTime": {
     "end_time": "2023-10-03T21:54:57.025178700Z",
     "start_time": "2023-10-03T21:54:57.005812700Z"
    }
   },
   "id": "900fc9bf3f812d0a"
  },
  {
   "cell_type": "code",
   "execution_count": 20,
   "outputs": [
    {
     "name": "stdout",
     "output_type": "stream",
     "text": [
      "Items in list1 but not in list2: ['Chelsea Grin', 'Wheel', 'Ricko James', 'Emarosa', 'Fat Nick', 'Silent Planet', 'BROCKHAMPTON', 'Andromida', 'Excision', 'Ov Sulfur', 'Chimp Spanner', 'Falling In Reverse', 'Electric Callboy', 'Within The Ruins', 'Cocainejesus', 'Marshmello', 'CORPSE', 'Nuclear Power Trio', 'Lamb of God', 'eevee', 'Motionless In White', 'The Algorithm', 'Rivers of Nihil', 'Hobo Johnson', 'Childish Gambino', 'Tears For Fears', 'Knocked Loose', 'Joey Pecoraro', 'Y2K', 'Ed Harrison', 'Enterprise Earth', 'Oh, Sleeper', 'Berried Alive', 'Caleb Belkin', 'The Acacia Strain', 'The Plot In You', 'Thornhill', 'Distant', 'Whitechapel', 'Meshuggah', 'Juice WRLD', 'Within Destruction', 'MAL', '生 Conform 死', 'Signs of the Swarm', \"Caligula's Horse\", 'Jason Richardson', 'Carcosa', 'Mental Cruelty', 'Attila', 'Sleep Token', 'Thirty Seconds To Mars', 'Worm Shepherd', 'Jerk', 'James Earle Trio', 'Tame Impala', 'MØL', 'Ice Nine Kills', 'I Am Abomination', 'KYLE', 'Hail The Sun', 'Mono:Massive', 'Josh A', '6ix9ine', 'Monuments', 'Sithu Aye', 'Cattle Decapitation', 'This Is Me Breathing', 'Johari', 'Mikel', 'Siamese', 'Ólafur Arnalds', 'Lorde', 'Zeal & Ardor', 'Issues', 'Royal Coda', 'HEALTH', 'To The Grave', 'Post Malone', 'La Dispute', 'Bullet For My Valentine', 'Hive', 'Kendrick Lamar', 'Alpha Wolf', 'Pouya', 'Dying Fetus', 'Port Noir', 'Billie Eilish', 'Aaron Smith', 'NOROZ', 'Elijah Who', 'Fractalize', 'Hunt the Dinosaur', 'The Amity Affliction', 'Defamed', 'SIAMES', 'System Of A Down', 'DADS', 'SwuM', 'Currents', 'Strawberry Girls', 'Carnifex', 'Bind the Sacrifice', 'Traitors', 'Make Them Suffer', 'Chon', 'Coletta', 'thrown', 'ten56.', 'Animals As Leaders', 'Fit For A King', 'Brand of Sacrifice', \"L'Indécis\", 'SCUMFUCK', 'Obscure of Acacia', 'Secret Band', 'Heart Of A Coward', 'Nova Collective', 'Audrey Fall', 'Heathen Foray', 'Makari', 'Eyes Set To Kill', 'Viscera', 'Ihsahn', 'Vildhjarta', 'Fit For An Autopsy', 'Yung Gravy', 'NIK NXK', 'Tallah', 'SIX ATL', 'Suicide Silence', 'Iiah', 'BABY GRAVY', 'Beartooth', 'Malevolence', 'quickly, quickly', 'Orbit Culture', 'Will Ramos', 'potsu', 'Killswitch Engage', 'Kardashev', 'Yung Bae', 'Cauldron', 'Wage War', 'The Trouble Notes', 'Between The Buried And Me', 'Of Mice & Men', 'As Blood Runs Black', 'August Burns Red', 'Rain City Drive', 'I Built the Sky', 'The Contortionist', 'Nohidea', 'Syncatto', 'After The Burial', 'We Lost The Sea', 'Tomppabeats', 'TrippyThaKid', 'Slaughter to Prevail', 'Jinsang', 'DEVILOOF', 'Mire Lore', 'The Word Alive', 'a-ha', 'Numenorean', 'Alesana', 'Oceans Ate Alaska', 'Billy Marchiafava', 'Sugi.wa', 'DEATHPHONK', 'Thy Art Is Murder', 'Termina', 'Marilyn Manson', 'Serj Tankian', 'RŮDE', 'XXXTENTACION', 'Volumes', 'Korn', 'Abhi The Nomad', 'Bad Omens', 'Lorne Balfe', 'Instupendo', 'Home', 'The Ogre Packet Slammers', 'killedmyself', 'Wax Tailor', 'Black Veil Brides', 'Betraying The Martyrs', 'Imminence', 'The Browning', 'Tyler, The Creator', 'ERRA', 'Leprous', 'Ne Obliviscaris', 'Glasgow Coma Scale', 'Crystal Lake', 'VCTMS', 'Cloudkicker', 'Rings of Saturn', 'Diablo Swing Orchestra', 'IDLES', '$uicideboy$', 'Elliot Ziegler', 'Insomnium', 'Fujitsu', 'Panic! At The Disco', 'Otxhello']\n",
      "________________________________________________________________\n",
      "Items in list2 but not in list1: ['Pink Guy', 'Oliver Tree', 'No Oath', 'Johann Sebastian Bach']\n"
     ]
    }
   ],
   "source": [
    "def find_differences(list1, list2):\n",
    "    # Convert the lists to sets\n",
    "    set1 = set(list1)\n",
    "    set2 = set(list2)\n",
    "\n",
    "    # Find the items that are in set1 but not in set2\n",
    "    difference1 = set1 - set2\n",
    "\n",
    "    # Find the items that are in set2 but not in set1\n",
    "    difference2 = set2 - set1\n",
    "\n",
    "    return list(difference1), list(difference2)\n",
    "\n",
    "\n",
    "\n",
    "new = []\n",
    "\n",
    "for i in ranked:\n",
    "    i = i[0]\n",
    "    if i not in new:\n",
    "        new.append(i)\n",
    "\n",
    "\n",
    "differences1, differences2 = find_differences(new, all_liked_artists)\n",
    "\n",
    "print(\"Items in list1 but not in list2:\", differences1)\n",
    "print(\"________________________________________________________________\")\n",
    "print(\"Items in list2 but not in list1:\", differences2)"
   ],
   "metadata": {
    "collapsed": false,
    "ExecuteTime": {
     "end_time": "2023-10-03T22:08:51.257803900Z",
     "start_time": "2023-10-03T22:08:51.248795200Z"
    }
   },
   "id": "ab02053128276bfd"
  },
  {
   "cell_type": "code",
   "execution_count": null,
   "outputs": [],
   "source": [],
   "metadata": {
    "collapsed": false
   },
   "id": "b47113428965f0e3"
  }
 ],
 "metadata": {
  "kernelspec": {
   "display_name": "Python 3",
   "language": "python",
   "name": "python3"
  },
  "language_info": {
   "codemirror_mode": {
    "name": "ipython",
    "version": 2
   },
   "file_extension": ".py",
   "mimetype": "text/x-python",
   "name": "python",
   "nbconvert_exporter": "python",
   "pygments_lexer": "ipython2",
   "version": "2.7.6"
  }
 },
 "nbformat": 4,
 "nbformat_minor": 5
}
