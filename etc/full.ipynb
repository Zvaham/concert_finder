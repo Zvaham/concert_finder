{
 "cells": [
  {
   "cell_type": "code",
   "execution_count": 2,
   "outputs": [],
   "source": [
    "import os\n",
    "from dotenv import load_dotenv\n",
    "from ticket_master_utils import search_events, parse_event\n",
    "from spotify_utils import authenticate_to_spotify, rank_artists_by_song_count, get_all_liked_tracks"
   ],
   "metadata": {
    "collapsed": false,
    "ExecuteTime": {
     "end_time": "2023-10-03T22:21:22.440441200Z",
     "start_time": "2023-10-03T22:21:22.319331400Z"
    }
   },
   "id": "6e62a024e4215b9a"
  },
  {
   "cell_type": "code",
   "execution_count": 3,
   "outputs": [],
   "source": [
    "load_dotenv()\n",
    "ticketmaster_api_key = os.getenv('TICKETMASTER_API_KEY')\n",
    "ticketmaster_api_url = os.getenv('TICKETMASTER_API_URL')\n",
    "\n",
    "client_id = os.getenv('SPOTIFY_CLIENT_ID')\n",
    "client_secret = os.getenv('SPOTIFY_CLIENT_SECRET')\n",
    "redirect_uri = os.getenv('SPOTIFY_REDIRECT_URI')\n",
    "scope = os.getenv('SPOTIFY_APP_SCOPE')"
   ],
   "metadata": {
    "collapsed": false,
    "ExecuteTime": {
     "end_time": "2023-10-03T22:21:22.535498200Z",
     "start_time": "2023-10-03T22:21:22.528492700Z"
    }
   },
   "id": "a7156cf3cfd4eb3a"
  },
  {
   "cell_type": "code",
   "execution_count": 4,
   "outputs": [
    {
     "name": "stderr",
     "output_type": "stream",
     "text": [
      "Fetching Liked Tracks Batches: 100%|██████████| 57/57 [00:21<00:00,  2.60it/s]\n"
     ]
    }
   ],
   "source": [
    "sp_ = authenticate_to_spotify(client_id, client_secret, redirect_uri, scope)\n",
    "\n",
    "top_artists = rank_artists_by_song_count(get_all_liked_tracks(sp_))\n",
    "\n",
    "artists = []\n",
    "for artist in top_artists:\n",
    "    if artist[1] >= 3:\n",
    "        artists.append(artist[0])\n",
    "\n",
    "events_per_band = 7\n",
    "all_events = []\n",
    "\n",
    "for i in artists:\n",
    "    events = search_events(i, ticketmaster_api_key, ticketmaster_api_url, events_per_band)\n",
    "\n",
    "    if events:\n",
    "        for event in events:\n",
    "            all_events.append(parse_event(band_name=i, event=event))\n"
   ],
   "metadata": {
    "collapsed": false,
    "ExecuteTime": {
     "end_time": "2023-10-03T22:22:36.019765500Z",
     "start_time": "2023-10-03T22:21:23.487658600Z"
    }
   },
   "id": "6881a58b39e208cc"
  },
  {
   "cell_type": "code",
   "execution_count": 6,
   "outputs": [
    {
     "name": "stdout",
     "output_type": "stream",
     "text": [
      "354\n"
     ]
    }
   ],
   "source": [
    "print(len(all_events))"
   ],
   "metadata": {
    "collapsed": false,
    "ExecuteTime": {
     "end_time": "2023-10-03T22:22:36.078819100Z",
     "start_time": "2023-10-03T22:22:36.033778300Z"
    }
   },
   "id": "f321b054141e860f"
  },
  {
   "cell_type": "code",
   "execution_count": 7,
   "outputs": [
    {
     "name": "stdout",
     "output_type": "stream",
     "text": [
      "[{'band_name': 'the devil wears prada', 'event_name': 'The Devil Wears Prada & Fit For A King: METALCORE DROPOUTS', 'date_and_time': '2023-10-07 19:00:00 (America/New_York)', 'start_datetime': 'Saturday, October 07, 2023 at 07:00 PM', 'event_url': 'https://concerts.livenation.com/the-devil-wears-prada-fit-for-charlotte-north-carolina-10-07-2023/event/2D005EA9DAE388C5', 'timezone': 'America/New_York', 'locale': 'en-us', 'venue_name': 'The Fillmore Charlotte', 'venue_address': '820 Hamilton Street'}, {'band_name': 'the devil wears prada', 'event_name': 'Fit For A King & The Devil Wears Prada: Metalcore Dropouts', 'date_and_time': '2023-10-03 19:00:00 (America/New_York)', 'start_datetime': 'Tuesday, October 03, 2023 at 07:00 PM', 'event_url': 'https://concerts.livenation.com/fit-for-a-king-the-devil-philadelphia-pennsylvania-10-03-2023/event/02005EA3937924B3', 'timezone': 'America/New_York', 'locale': 'en-us', 'venue_name': 'The Fillmore Philadelphia', 'venue_address': '29 E Allen Street'}, {'band_name': 'the devil wears prada', 'event_name': 'Fit For A King & The Devil Wears Prada: Metalcore Dropouts', 'date_and_time': '2023-10-08 18:00:00 (America/New_York)', 'start_datetime': 'Sunday, October 08, 2023 at 06:00 PM', 'event_url': 'https://www.ticketmaster.com/fit-for-a-king-the-devil-atlanta-georgia-10-08-2023/event/0E005EA2A7E825D4', 'timezone': 'America/New_York', 'locale': 'en-us', 'venue_name': 'The Masquerade - Heaven', 'venue_address': \"Kenny's Alley @ Underground Atlanta\"}, {'band_name': 'the devil wears prada', 'event_name': 'The Devil Wears Prada & Fit For A King: METALCORE DROPOUTS', 'date_and_time': '2023-10-10 18:00:00 (America/New_York)', 'start_datetime': 'Tuesday, October 10, 2023 at 06:00 PM', 'event_url': 'https://www.ticketmaster.com/the-devil-wears-prada-fit-for-ft-lauderdale-florida-10-10-2023/event/0D005EACB7BECF37', 'timezone': 'America/New_York', 'locale': 'en-us', 'venue_name': 'Revolution Live', 'venue_address': '100 SW 3rd Ave'}, {'band_name': 'the devil wears prada', 'event_name': 'The Devil Wears Prada & Fit For A King: METALCORE DROPOUTS', 'date_and_time': '2023-10-13 18:00:00 (America/Chicago)', 'start_datetime': 'Friday, October 13, 2023 at 06:00 PM', 'event_url': 'https://www.ticketmaster.com/the-devil-wears-prada-fit-for-houston-texas-10-13-2023/event/3A005EA812917DFF', 'timezone': 'America/Chicago', 'locale': 'en-us', 'venue_name': 'White Oak Music Hall - Downstairs', 'venue_address': '2915 N Main St'}, {'band_name': 'the devil wears prada', 'event_name': 'The Devil Wears Prada w/ Fit for a King', 'date_and_time': '2023-10-04 19:00:00 (Unknown)', 'start_datetime': 'Wednesday, October 04, 2023 at 07:00 PM', 'event_url': 'https://www.ticketmaster.com/event/Z7r9jZ1Adxp8s', 'timezone': 'Unknown', 'locale': 'en-us', 'venue_name': 'The Norva', 'venue_address': '317 Monticello Ave'}, {'band_name': 'the devil wears prada', 'event_name': 'Fit For A King & The Devil Wears Prada: Metalcore Dropouts', 'date_and_time': '2023-10-06 19:00:00 (America/Chicago)', 'start_datetime': 'Friday, October 06, 2023 at 07:00 PM', 'event_url': 'https://www.ticketweb.com/event/fit-for-a-king-marathon-music-works-tickets/13225258?pl=marathonmusicworks', 'timezone': 'America/Chicago', 'locale': 'en-us', 'venue_name': 'Marathon Music Works', 'venue_address': '1402 Clinton St'}, {'band_name': 'bring me the horizon', 'event_name': 'Bring Me The Horizon', 'date_and_time': '2024-01-09 17:30:00 (Europe/London)', 'start_datetime': 'Tuesday, January 09, 2024 at 05:30 PM', 'event_url': 'https://www.ticketmaster.co.uk/bring-me-the-horizon-cardiff-09-01-2024/event/36005EC19EBB15AF', 'timezone': 'Europe/London', 'locale': 'en-us', 'venue_name': 'Utilita Arena Cardiff', 'venue_address': 'Mary Ann Street'}, {'band_name': 'bring me the horizon', 'event_name': 'Bring Me The Horizon', 'date_and_time': '2024-01-10 17:30:00 (Europe/London)', 'start_datetime': 'Wednesday, January 10, 2024 at 05:30 PM', 'event_url': 'https://www.ticketmaster.co.uk/bring-me-the-horizon-bournemouth-10-01-2024/event/36005EC8C0083367', 'timezone': 'Europe/London', 'locale': 'en-us', 'venue_name': 'Bournemouth International Centre', 'venue_address': 'Exeter Road'}, {'band_name': 'bring me the horizon', 'event_name': 'Bring Me The Horizon', 'date_and_time': '2024-01-12 17:30:00 (Europe/London)', 'start_datetime': 'Friday, January 12, 2024 at 05:30 PM', 'event_url': 'https://www.ticketmaster.co.uk/bring-me-the-horizon-birmingham-12-01-2024/event/23005EC9BC970A5D', 'timezone': 'Europe/London', 'locale': 'en-us', 'venue_name': 'Utilita Arena Birmingham', 'venue_address': 'King Edwards Road'}]\n"
     ]
    }
   ],
   "source": [
    "print(all_events[:10])"
   ],
   "metadata": {
    "collapsed": false,
    "ExecuteTime": {
     "end_time": "2023-10-03T22:29:08.229997600Z",
     "start_time": "2023-10-03T22:29:08.208973600Z"
    }
   },
   "id": "188463a08a0bee31"
  },
  {
   "cell_type": "code",
   "execution_count": null,
   "outputs": [],
   "source": [],
   "metadata": {
    "collapsed": false
   },
   "id": "36911d462ec2fb47"
  }
 ],
 "metadata": {
  "kernelspec": {
   "display_name": "Python 3",
   "language": "python",
   "name": "python3"
  },
  "language_info": {
   "codemirror_mode": {
    "name": "ipython",
    "version": 2
   },
   "file_extension": ".py",
   "mimetype": "text/x-python",
   "name": "python",
   "nbconvert_exporter": "python",
   "pygments_lexer": "ipython2",
   "version": "2.7.6"
  }
 },
 "nbformat": 4,
 "nbformat_minor": 5
}
